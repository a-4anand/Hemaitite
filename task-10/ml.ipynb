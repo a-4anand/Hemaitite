{
 "cells": [
  {
   "cell_type": "code",
   "execution_count": 54,
   "id": "initial_id",
   "metadata": {
    "collapsed": true,
    "ExecuteTime": {
     "end_time": "2025-04-20T20:55:59.116523Z",
     "start_time": "2025-04-20T20:55:59.075774Z"
    }
   },
   "outputs": [
    {
     "name": "stdout",
     "output_type": "stream",
     "text": [
      "   S No                      School Name  Establishment Region  \\\n",
      "0   1.0                     Anad Vid Hol         1978.0  Rural   \n",
      "1   2.0      Anand Eng Med Public school         2013.0  Rural   \n",
      "2   3.0                       Anandnagar         2005.0  Rural   \n",
      "3   4.0  New English School Pandharwasti         1989.0  Rural   \n",
      "4   5.0                   Zpps Aathphata         1948.0  Rural   \n",
      "\n",
      "  Pre-primary section (Y/N)  Classes medium of instructions   Management  \\\n",
      "0                        No  5 to 12                Marathi    Pvt.Aided   \n",
      "1                       Yes   1 to 3                English  Pvt.Unaided   \n",
      "2                        No   1 to 4                Marathi   Local Body   \n",
      "3                        No  5 to 10                Marathi    Pvt.Aided   \n",
      "4                        No   1 to 4                Marathi   Local Body   \n",
      "\n",
      "    Cluster  Sr.No  \n",
      "0  Athphata    NaN  \n",
      "1  Athphata    NaN  \n",
      "2  Athphata    NaN  \n",
      "3  Athphata    NaN  \n",
      "4  Athphata    NaN  \n"
     ]
    }
   ],
   "source": [
    "import pandas as pd\n",
    "\n",
    "df1 = pd.read_csv('School Data - Baramati.csv')  \n",
    "df2 = pd.read_csv('School Data - Phaltan.csv') \n",
    "\n",
    "df_combined = pd.concat([df1, df2], ignore_index=True)\n",
    "\n",
    "print(df_combined.head())\n"
   ]
  },
  {
   "cell_type": "code",
   "outputs": [],
   "source": [
    "# Clean column names\n",
    "df_combined.columns = df_combined.columns.str.strip().str.lower().str.replace(\" \", \"_\")\n",
    "\n",
    "# Optional: Clean values (like Pre-primary section and Classes)\n",
    "df_combined['pre-primary_section_(y/n)'] = df_combined['pre-primary_section_(y/n)'].str.strip().str.upper()\n",
    "df_combined['classes'] = df_combined['classes'].str.strip().str.upper()\n",
    "df_combined['medium_of_instructions'] = df_combined['medium_of_instructions'].str.strip().str.capitalize()\n",
    "df_combined['management'] = df_combined['management'].str.lower().str.replace('.', '').str.replace(' ', '')\n"
   ],
   "metadata": {
    "collapsed": false,
    "ExecuteTime": {
     "end_time": "2025-04-20T20:55:59.138374Z",
     "start_time": "2025-04-20T20:55:59.119946Z"
    }
   },
   "id": "35a85e8e5970cdfc",
   "execution_count": 55
  },
  {
   "cell_type": "code",
   "outputs": [
    {
     "name": "stdout",
     "output_type": "stream",
     "text": [
      "   establishment  region  pre-primary_section_(y/n)  classes  \\\n",
      "0         1978.0       0                          1       17   \n",
      "1         2013.0       0                          3        4   \n",
      "2         2005.0       0                          1        5   \n",
      "3         1989.0       0                          1       15   \n",
      "4         1948.0       0                          1        5   \n",
      "\n",
      "   medium_of_instructions  management  cluster  sr.no  \n",
      "0                       3           2        2    NaN  \n",
      "1                       0           3        2    NaN  \n",
      "2                       3           0        2    NaN  \n",
      "3                       3           2        2    NaN  \n",
      "4                       3           0        2    NaN  \n"
     ]
    }
   ],
   "source": [
    "from sklearn.preprocessing import LabelEncoder\n",
    "\n",
    "# Drop unneeded columns like Sr. No or School Name (they are identifiers)\n",
    "df_model = df_combined.drop(['s_no', 'school_name'], axis=1)\n",
    "\n",
    "# Encode all string columns\n",
    "for col in df_model.select_dtypes(include='object').columns:\n",
    "    df_model[col] = LabelEncoder().fit_transform(df_model[col])\n",
    "\n",
    "print(df_model.head())\n"
   ],
   "metadata": {
    "collapsed": false,
    "ExecuteTime": {
     "end_time": "2025-04-20T20:55:59.162624Z",
     "start_time": "2025-04-20T20:55:59.140277Z"
    }
   },
   "id": "33d4399320af767c",
   "execution_count": 56
  },
  {
   "cell_type": "code",
   "outputs": [
    {
     "name": "stdout",
     "output_type": "stream",
     "text": [
      "Accuracy: 0.46060606060606063\n",
      "              precision    recall  f1-score   support\n",
      "\n",
      "           0       1.00      0.67      0.80         3\n",
      "           1       0.50      0.67      0.57         3\n",
      "           2       0.00      0.00      0.00         3\n",
      "           3       0.78      1.00      0.88         7\n",
      "           4       0.50      0.33      0.40         3\n",
      "           5       0.00      0.00      0.00         3\n",
      "           6       0.00      0.00      0.00         4\n",
      "           7       0.50      0.67      0.57         3\n",
      "           8       0.43      0.50      0.46         6\n",
      "           9       0.00      0.00      0.00         3\n",
      "          10       0.75      1.00      0.86         3\n",
      "          11       0.00      0.00      0.00         2\n",
      "          12       0.00      0.00      0.00         3\n",
      "          13       1.00      0.50      0.67         2\n",
      "          14       0.00      0.00      0.00         2\n",
      "          15       0.57      1.00      0.73         4\n",
      "          16       0.00      0.00      0.00         4\n",
      "          17       0.25      0.67      0.36         3\n",
      "          18       0.00      0.00      0.00         4\n",
      "          19       0.00      0.00      0.00         3\n",
      "          20       0.00      0.00      0.00         5\n",
      "          21       0.50      0.50      0.50         2\n",
      "          22       0.00      0.00      0.00         3\n",
      "          23       1.00      0.67      0.80         3\n",
      "          24       0.50      0.50      0.50         4\n",
      "          25       0.00      0.00      0.00         3\n",
      "          26       0.67      1.00      0.80         4\n",
      "          27       0.00      0.00      0.00         2\n",
      "          28       0.00      0.00      0.00         3\n",
      "          29       1.00      1.00      1.00         6\n",
      "          30       1.00      0.50      0.67         4\n",
      "          31       0.75      1.00      0.86         3\n",
      "          32       0.80      1.00      0.89         4\n",
      "          33       1.00      1.00      1.00         4\n",
      "          34       1.00      1.00      1.00         5\n",
      "          35       0.00      0.00      0.00         4\n",
      "          36       0.20      0.33      0.25         3\n",
      "          37       0.20      0.25      0.22         4\n",
      "          38       0.00      0.00      0.00         5\n",
      "          39       0.00      0.00      0.00         4\n",
      "          40       0.80      1.00      0.89         4\n",
      "          41       0.57      0.80      0.67         5\n",
      "          42       0.60      0.60      0.60         5\n",
      "          43       0.33      0.50      0.40         4\n",
      "          44       1.00      0.33      0.50         3\n",
      "          45       0.00      0.00      0.00         1\n",
      "\n",
      "    accuracy                           0.46       165\n",
      "   macro avg       0.40      0.41      0.39       165\n",
      "weighted avg       0.43      0.46      0.43       165\n"
     ]
    },
    {
     "name": "stderr",
     "output_type": "stream",
     "text": [
      "/Library/Frameworks/Python.framework/Versions/3.11/lib/python3.11/site-packages/sklearn/metrics/_classification.py:1531: UndefinedMetricWarning: Precision is ill-defined and being set to 0.0 in labels with no predicted samples. Use `zero_division` parameter to control this behavior.\n",
      "  _warn_prf(average, modifier, f\"{metric.capitalize()} is\", len(result))\n",
      "/Library/Frameworks/Python.framework/Versions/3.11/lib/python3.11/site-packages/sklearn/metrics/_classification.py:1531: UndefinedMetricWarning: Precision is ill-defined and being set to 0.0 in labels with no predicted samples. Use `zero_division` parameter to control this behavior.\n",
      "  _warn_prf(average, modifier, f\"{metric.capitalize()} is\", len(result))\n",
      "/Library/Frameworks/Python.framework/Versions/3.11/lib/python3.11/site-packages/sklearn/metrics/_classification.py:1531: UndefinedMetricWarning: Precision is ill-defined and being set to 0.0 in labels with no predicted samples. Use `zero_division` parameter to control this behavior.\n",
      "  _warn_prf(average, modifier, f\"{metric.capitalize()} is\", len(result))\n"
     ]
    }
   ],
   "source": [
    "from sklearn.model_selection import train_test_split\n",
    "from sklearn.ensemble import RandomForestClassifier\n",
    "from sklearn.metrics import classification_report, accuracy_score\n",
    "\n",
    "# Define X and y\n",
    "X = df_model.drop('cluster', axis=1)\n",
    "y = df_model['cluster']\n",
    "\n",
    "# Split the data\n",
    "X_train, X_test, y_train, y_test = train_test_split(X, y, stratify=y, test_size=0.2, random_state=42)\n",
    "\n",
    "# Train the model\n",
    "model = RandomForestClassifier()\n",
    "model.fit(X_train, y_train)\n",
    "\n",
    "# Evaluate\n",
    "y_pred = model.predict(X_test)\n",
    "print(\"Accuracy:\", accuracy_score(y_test, y_pred))\n",
    "print(classification_report(y_test, y_pred))\n"
   ],
   "metadata": {
    "collapsed": false,
    "ExecuteTime": {
     "end_time": "2025-04-20T20:55:59.665058Z",
     "start_time": "2025-04-20T20:55:59.165325Z"
    }
   },
   "id": "5fc35cb234045df5",
   "execution_count": 57
  },
  {
   "cell_type": "code",
   "outputs": [
    {
     "data": {
      "text/plain": "['school_cluster_predictor.pkl']"
     },
     "execution_count": 58,
     "metadata": {},
     "output_type": "execute_result"
    }
   ],
   "source": [
    "import joblib\n",
    "joblib.dump(model, 'school_cluster_predictor.pkl')\n"
   ],
   "metadata": {
    "collapsed": false,
    "ExecuteTime": {
     "end_time": "2025-04-20T20:55:59.773861Z",
     "start_time": "2025-04-20T20:55:59.673604Z"
    }
   },
   "id": "1019190100a07529",
   "execution_count": 58
  }
 ],
 "metadata": {
  "kernelspec": {
   "display_name": "Python 3",
   "language": "python",
   "name": "python3"
  },
  "language_info": {
   "codemirror_mode": {
    "name": "ipython",
    "version": 2
   },
   "file_extension": ".py",
   "mimetype": "text/x-python",
   "name": "python",
   "nbconvert_exporter": "python",
   "pygments_lexer": "ipython2",
   "version": "2.7.6"
  }
 },
 "nbformat": 4,
 "nbformat_minor": 5
}
