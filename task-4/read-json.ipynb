{
 "cells": [
  {
   "cell_type": "code",
   "execution_count": 3,
   "metadata": {},
   "outputs": [],
   "source": [
    "import pandas as pd\n",
    "import requests"
   ]
  },
  {
   "cell_type": "code",
   "execution_count": 4,
   "metadata": {},
   "outputs": [],
   "source": [
    "url = \"https://data.wa.gov/api/views/f6w7-q2d2/rows.json?accessType=DOWNLOAD\""
   ]
  },
  {
   "cell_type": "code",
   "execution_count": 5,
   "metadata": {},
   "outputs": [],
   "source": [
    "response = requests.get(url)\n",
    "data = response.json() "
   ]
  },
  {
   "cell_type": "code",
   "execution_count": 6,
   "metadata": {},
   "outputs": [],
   "source": [
    "rows = data.get(\"data\", [])"
   ]
  },
  {
   "cell_type": "code",
   "execution_count": 7,
   "metadata": {},
   "outputs": [],
   "source": [
    "df = pd.DataFrame(rows)"
   ]
  },
  {
   "cell_type": "code",
   "execution_count": 8,
   "metadata": {},
   "outputs": [
    {
     "name": "stdout",
     "output_type": "stream",
     "text": [
      "                   0                                     1   2           3   \\\n",
      "0  row-9exd_xzw7-2hfk  00000000-0000-0000-F8E5-5FABDC1A77AA   0  1739484275   \n",
      "1  row-njxk_i4aj-akam  00000000-0000-0000-3D39-92D265CBF77E   0  1739484275   \n",
      "2  row-nxee-9esk-6hp3  00000000-0000-0000-2608-0B442B04FBF7   0  1739484275   \n",
      "3  row-rqsf_6y4m_8w4h  00000000-0000-0000-2B87-13290271693D   0  1739484275   \n",
      "4  row-2f3h.k5mk~z5z3  00000000-0000-0000-4C33-DC50337CEE6B   0  1739484275   \n",
      "\n",
      "     4           5     6    7           8         9   ...   18 19  20  \\\n",
      "0  None  1739484437  None  { }  2T3YL4DV0E      King  ...  103  0  41   \n",
      "1  None  1739484437  None  { }  5YJ3E1EB6K      King  ...  220  0   1   \n",
      "2  None  1739484437  None  { }  5UX43EU02S  Thurston  ...   40  0  35   \n",
      "3  None  1739484437  None  { }  JTMAB3FV5R  Thurston  ...   42  0   2   \n",
      "4  None  1739484437  None  { }  5YJYGDEE8M    Yakima  ...    0  0  15   \n",
      "\n",
      "          21                           22  \\\n",
      "0  186450183   POINT (-122.1621 47.64441)   \n",
      "1  478093654  POINT (-122.20563 47.76144)   \n",
      "2  274800718  POINT (-122.92333 47.03779)   \n",
      "3  260758165  POINT (-122.81754 46.98876)   \n",
      "4  236581355  POINT (-120.53145 46.65405)   \n",
      "\n",
      "                                              23           24    25  26  27  \n",
      "0  PUGET SOUND ENERGY INC||CITY OF TACOMA - (WA)  53033023604  3009   9  49  \n",
      "1  PUGET SOUND ENERGY INC||CITY OF TACOMA - (WA)  53033022102  3009   1   1  \n",
      "2                         PUGET SOUND ENERGY INC  53067011902  2742  10  28  \n",
      "3                         PUGET SOUND ENERGY INC  53067012332  2742  10  28  \n",
      "4                                     PACIFICORP  53077003200  2746   4  22  \n",
      "\n",
      "[5 rows x 28 columns]\n"
     ]
    }
   ],
   "source": [
    "\n",
    "print(df.head())\n"
   ]
  }
 ],
 "metadata": {
  "kernelspec": {
   "display_name": "Python 3",
   "language": "python",
   "name": "python3"
  },
  "language_info": {
   "codemirror_mode": {
    "name": "ipython",
    "version": 3
   },
   "file_extension": ".py",
   "mimetype": "text/x-python",
   "name": "python",
   "nbconvert_exporter": "python",
   "pygments_lexer": "ipython3",
   "version": "3.11.5"
  }
 },
 "nbformat": 4,
 "nbformat_minor": 2
}
