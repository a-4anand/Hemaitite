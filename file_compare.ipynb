{
 "cells": [
  {
   "cell_type": "code",
   "execution_count": 12,
   "metadata": {},
   "outputs": [
    {
     "name": "stdout",
     "output_type": "stream",
     "text": [
      "Requirement already satisfied: pymupdf in /Library/Frameworks/Python.framework/Versions/3.11/lib/python3.11/site-packages (1.25.3)\n",
      "Requirement already satisfied: python-docx in /Library/Frameworks/Python.framework/Versions/3.11/lib/python3.11/site-packages (1.1.2)\n",
      "Requirement already satisfied: lxml>=3.1.0 in /Library/Frameworks/Python.framework/Versions/3.11/lib/python3.11/site-packages (from python-docx) (5.3.0)\n",
      "Requirement already satisfied: typing-extensions>=4.9.0 in /Users/aanandkumar/Library/Python/3.11/lib/python/site-packages (from python-docx) (4.12.2)\n",
      "\n",
      "\u001b[1m[\u001b[0m\u001b[34;49mnotice\u001b[0m\u001b[1;39;49m]\u001b[0m\u001b[39;49m A new release of pip is available: \u001b[0m\u001b[31;49m24.3.1\u001b[0m\u001b[39;49m -> \u001b[0m\u001b[32;49m25.0.1\u001b[0m\n",
      "\u001b[1m[\u001b[0m\u001b[34;49mnotice\u001b[0m\u001b[1;39;49m]\u001b[0m\u001b[39;49m To update, run: \u001b[0m\u001b[32;49mpip install --upgrade pip\u001b[0m\n"
     ]
    }
   ],
   "source": [
    "!pip install pymupdf python-docx\n"
   ]
  },
  {
   "cell_type": "code",
   "execution_count": 13,
   "metadata": {},
   "outputs": [],
   "source": [
    "import difflib\n",
    "import tkinter as tk\n",
    "from tkinter import filedialog\n",
    "import fitz  #\n",
    "import csv\n",
    "import json\n",
    "from docx import Document"
   ]
  },
  {
   "cell_type": "code",
   "execution_count": 14,
   "metadata": {},
   "outputs": [],
   "source": [
    "def select_file():\n",
    "    \n",
    "    file_path = filedialog.askopenfilename(\n",
    "        title=\"Select a file\",\n",
    "        filetypes=[(\"All Files\", \"*.*\"), (\"PDF Files\", \"*.pdf\"), (\"Text Files\", \"*.txt\"),\n",
    "                   (\"CSV Files\", \"*.csv\"), (\"JSON Files\", \"*.json\"), (\"Word Files\", \"*.docx\")]\n",
    "    )\n",
    "    return file_path"
   ]
  },
  {
   "cell_type": "code",
   "execution_count": 15,
   "metadata": {},
   "outputs": [],
   "source": [
    "def extract_text(file_path):\n",
    "    \n",
    "    try:\n",
    "        if file_path.endswith(\".pdf\"):\n",
    "            return extract_text_from_pdf(file_path)\n",
    "        elif file_path.endswith(\".txt\"):\n",
    "            return extract_text_from_txt(file_path)\n",
    "        elif file_path.endswith(\".csv\"):\n",
    "            return extract_text_from_csv(file_path)\n",
    "        elif file_path.endswith(\".json\"):\n",
    "            return extract_text_from_json(file_path)\n",
    "        elif file_path.endswith(\".docx\"):\n",
    "            return extract_text_from_docx(file_path)\n",
    "        else:\n",
    "            print(f\"Unsupported file format: {file_path}\")\n",
    "            return None\n",
    "    except Exception as e:\n",
    "        print(f\"Error extracting text from {file_path}: {e}\")\n",
    "        return None"
   ]
  },
  {
   "cell_type": "code",
   "execution_count": 16,
   "metadata": {},
   "outputs": [],
   "source": [
    "def extract_text_from_pdf(pdf_path):\n",
    "    \n",
    "    with fitz.open(pdf_path) as doc:\n",
    "        text = \"\\n\".join(page.get_text(\"text\") for page in doc)\n",
    "    return text"
   ]
  },
  {
   "cell_type": "code",
   "execution_count": 17,
   "metadata": {},
   "outputs": [],
   "source": [
    "def extract_text_from_txt(txt_path):\n",
    "    \n",
    "    with open(txt_path, \"r\", encoding=\"utf-8\") as file:\n",
    "        return file.read()"
   ]
  },
  {
   "cell_type": "code",
   "execution_count": 18,
   "metadata": {},
   "outputs": [],
   "source": [
    "def extract_text_from_csv(csv_path):\n",
    "    \n",
    "    with open(csv_path, \"r\", encoding=\"utf-8\") as file:\n",
    "        reader = csv.reader(file)\n",
    "        return \"\\n\".join([\" \".join(row) for row in reader])"
   ]
  },
  {
   "cell_type": "code",
   "execution_count": 19,
   "metadata": {},
   "outputs": [],
   "source": [
    "def extract_text_from_json(json_path):\n",
    "    \"\"\"Extract text from a JSON file.\"\"\"\n",
    "    with open(json_path, \"r\", encoding=\"utf-8\") as file:\n",
    "        data = json.load(file)\n",
    "        return json.dumps(data, indent=2) "
   ]
  },
  {
   "cell_type": "code",
   "execution_count": 20,
   "metadata": {},
   "outputs": [],
   "source": [
    "def extract_text_from_docx(docx_path):\n",
    "    \"\"\"Extract text from a DOCX (Word) file.\"\"\"\n",
    "    doc = Document(docx_path)\n",
    "    return \"\\n\".join([para.text for para in doc.paragraphs])"
   ]
  },
  {
   "cell_type": "code",
   "execution_count": 21,
   "metadata": {},
   "outputs": [],
   "source": [
    "def compare_files(file1, file2):\n",
    "    \"\"\"Compare two files and display their similarity percentage.\"\"\"\n",
    "    text1 = extract_text(file1)\n",
    "    text2 = extract_text(file2)\n",
    "    \n",
    "    if text1 is None or text2 is None:\n",
    "        print(\"Error extracting text from one or both files.\")\n",
    "        return\n",
    "\n",
    "\n",
    "    similarity_ratio = difflib.SequenceMatcher(None, text1, text2).ratio()\n",
    "    similarity_percentage = round(similarity_ratio * 100, 2)\n",
    "\n",
    "    if similarity_percentage == 100:\n",
    "        print(\"The files are identical (100% similarity).\")\n",
    "    else:\n",
    "        print(f\"The files are different. Similarity: {similarity_percentage}%\")"
   ]
  },
  {
   "cell_type": "code",
   "execution_count": 22,
   "metadata": {},
   "outputs": [
    {
     "name": "stdout",
     "output_type": "stream",
     "text": [
      "Select the first file:\n"
     ]
    },
    {
     "name": "stderr",
     "output_type": "stream",
     "text": [
      "2025-02-12 15:01:54.414 Python[32697:546797] +[IMKInputSession subclass]: chose IMKInputSession_Modern\n"
     ]
    },
    {
     "name": "stdout",
     "output_type": "stream",
     "text": [
      "Select the second file:\n",
      "The files are identical (100% similarity).\n"
     ]
    }
   ],
   "source": [
    "root = tk.Tk()\n",
    "root.withdraw()  \n",
    "\n",
    "print(\"Select the first file:\")\n",
    "file1 = select_file()\n",
    "\n",
    "print(\"Select the second file:\")\n",
    "file2 = select_file()\n",
    "\n",
    "if file1 and file2:\n",
    "    compare_files(file1, file2)\n",
    "else:\n",
    "    print(\"File selection was canceled.\")"
   ]
  }
 ],
 "metadata": {
  "kernelspec": {
   "display_name": "Python 3",
   "language": "python",
   "name": "python3"
  },
  "language_info": {
   "codemirror_mode": {
    "name": "ipython",
    "version": 3
   },
   "file_extension": ".py",
   "mimetype": "text/x-python",
   "name": "python",
   "nbconvert_exporter": "python",
   "pygments_lexer": "ipython3",
   "version": "3.11.5"
  }
 },
 "nbformat": 4,
 "nbformat_minor": 2
}
